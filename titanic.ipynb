{
 "cells": [
  {
   "cell_type": "code",
   "execution_count": 2,
   "metadata": {
    "collapsed": true
   },
   "outputs": [],
   "source": [
    "import numpy as np\n",
    "import pandas as pd\n",
    "\n"
   ]
  },
  {
   "cell_type": "code",
   "execution_count": 6,
   "metadata": {},
   "outputs": [
    {
     "name": "stdout",
     "output_type": "stream",
     "text": [
      "Index(['Pclass', 'Fare', 'Age', 'Sex'], dtype='object')\n",
      "[ 0.14000522  0.30343647  0.2560461   0.30051221]\n"
     ]
    }
   ],
   "source": [
    "from numpy import *\n",
    "from sklearn.tree import DecisionTreeClassifier\n",
    "data = pd.read_csv('C:\\\\tias\\\\titanic_1\\\\titanic.csv', index_col='PassengerId')\n",
    "main_data_frame = pd.DataFrame(data=data, columns=['Pclass', 'Fare', 'Age', 'Sex', 'Survived'])\n",
    "\n",
    "main_data_frame = main_data_frame[[\"Pclass\", \"Fare\", \"Age\", \"Sex\", \"Survived\"]].dropna()   #очищаем от Nano(в)\n",
    "\n",
    "output = main_data_frame[[\"Pclass\", \"Fare\", \"Age\", \"Sex\"]].replace(\"female\",0).replace(\"male\",1)\n",
    "\n",
    "clf = DecisionTreeClassifier(random_state=241)\n",
    "Y = main_data_frame['Survived']\n",
    "X = output\n",
    "\n",
    "\n",
    "print(X.columns)\n",
    "clf.fit(X, Y)\n",
    "print(clf.feature_importances_)"
   ]
  }
 ],
 "metadata": {
  "kernelspec": {
   "display_name": "Python 3",
   "language": "python",
   "name": "python3"
  },
  "language_info": {
   "codemirror_mode": {
    "name": "ipython",
    "version": 3
   },
   "file_extension": ".py",
   "mimetype": "text/x-python",
   "name": "python",
   "nbconvert_exporter": "python",
   "pygments_lexer": "ipython3",
   "version": "3.5.2"
  }
 },
 "nbformat": 4,
 "nbformat_minor": 2
}
